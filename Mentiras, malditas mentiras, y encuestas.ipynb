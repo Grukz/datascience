{
 "metadata": {
  "name": "",
  "signature": "sha256:155a5c1788924fbb1c40491915d35e928504c905d8a80487dcbdf9e25627b16b"
 },
 "nbformat": 3,
 "nbformat_minor": 0,
 "worksheets": [
  {
   "cells": [
    {
     "cell_type": "heading",
     "level": 2,
     "metadata": {},
     "source": [
      "Mentiras, malditas mentiras, y encuestas (*)\n"
     ]
    },
    {
     "cell_type": "heading",
     "level": 4,
     "metadata": {},
     "source": [
      "Guillermo Moncecchi (@gmonce)"
     ]
    },
    {
     "cell_type": "markdown",
     "metadata": {},
     "source": [
      "\u00c9poca de elecciones, \u00e9poca de encuestas. Y \u00e9poca de an\u00e1lisis de encuestas. Hace tiempo (mucho tiempo) que me tengo la misma impresi\u00f3n: me parece que la mayor\u00eda de las afirmaciones que hacen los polit\u00f3logos (y, mucho m\u00e1s, los medios) son, directamente err\u00f3neas, o al menos no se desprenden de los datos. Van dos encuestas en las que baja un punto y entonces: \"El Frente Amplio consolida su ca\u00edda\". Pero, claro, mi afirmaci\u00f3n es tan imprecisa como las originales. \n",
      "\n",
      "Aunque trabajo habitualmente con probabilidades, no soy ni de lejos un experto (siquiera un conocedor profundo) de los m\u00e9todos estad\u00edsticos. As\u00ed que le\u00ed un poco, busqu\u00e9 otro poco... y finalmente encontr\u00e9 exactamente lo que quer\u00eda: este art\u00edculo sobre c\u00f3mo analizar resultados de encuestas, y c\u00f3mo tener en cuenta el \"margen de error\" reportado. Si les interesa leerlo, se llama \"The 'Margin of Error' for Differences in Polls\", de Charles Franklin, y est\u00e1 disponible en https://abcnews.go.com/images/PollingUnit/MOEFranklin.pdf. \n",
      "\n",
      "Algunos comentarios, antes de empezar: una encuesta es una consulta a un grupo de gente, esperando que sea representativa del total de la poblaci\u00f3n (en este caso, los votantes). El n\u00famero que se publica es la proporci\u00f3n de votantes que eligi\u00f3 a cada partido (por ejemplo: 0.32 para el Partido Nacional quiere decir que 32 de cada 100 encuestados tom\u00f3 esa opci\u00f3n). Pero, adem\u00e1s, se publica un \"margen de error\" y un \"nivel de confianza\" (t\u00edpicamente del 95%), que dice lo siguiente (leer atentamente, porque es larguito): si hacemos 100 encuestas como \u00e9stas, en 95 de ellas, el n\u00famero va a estar entre el valor de la proporci\u00f3n m\u00e1s/menos el valor del margen de error (o \"intervalo de confianza\"). Por ejemplo, si el margen de error es +/- 3,2%, el 0.32 se transforma en un rango, [0.288,0.352] (en realidad, este es el peor caso). Eso quiere decir, nada m\u00e1s ni nada menos: 1 de cada 20 veces que haga esta encuesta me voy a equivocar y el n\u00famero va a salirse del rango. _No quiere decir_ que haya un 95% de certeza (y por eso el t\u00e9rmino \"confianza\" no es muy adecuado) sobre los resultados.\n",
      "\n",
      "O sea, a las encuestas hay que tomarlas con pinzas. No voy a repetirlo, pero cada vez que demos un valor o un intervalo, recuerden que 1 de cada 20 veces es normal errarle. Normal. \n",
      "\n",
      "El margen de error nos sugiere un rango para los valores. Vamos a los datos para ver ejemplos: consideramos la encuesta Factum en el 2009 en diversas ediciones (elijo la misma encuesta para que las comparaciones sean v\u00e1lidas, porque uno supone que el m\u00e9todo es el mismo):"
     ]
    },
    {
     "cell_type": "code",
     "collapsed": false,
     "input": [
      "# Datos\n",
      "# Consideramos los votos a setiembre de diferentes a\u00f1os, para ver c\u00f3mo van cambiando\n",
      "votaciones_factum_2014={'votoFA':0.42,'votoPN':0.32,'votoPC':0.15,'votoPI':0.03,'votoIndefinidos':0.04,'votoOtros':0.02}\n",
      "votaciones_factum_julio_2014={'votoFA':0.42,'votoPN':0.30,'votoPC':0.14,'votoPI':0.03,'votoIndefinidos':0.04,'votoOtros':0.02}\n",
      "votaciones_factum_2013={'votoFA':0.43,'votoPN':0.23,'votoPC':0.16,'votoPI':0.02,'votoIndefinidos':0.08,'votoOtros':0.08}\n",
      "votaciones_factum_2010={'votoFA':0.49,'votoPN':0.22,'votoPC':0.13,'votoPI':0.00,'votoIndefinidos':0.00,'votoOtros':0.00}\n",
      "votaciones_factum_2009={'votoFA':0.46,'votoPN':0.34,'votoPC':0.10,'votoPI':0.02,'votoIndefinidos':0.06,'votoOtros':0.02}\n"
     ],
     "language": "python",
     "metadata": {},
     "outputs": [],
     "prompt_number": 4
    },
    {
     "cell_type": "markdown",
     "metadata": {},
     "source": [
      "Definimos las funciones (igualito que en el paper). Vamos a ir explicando cada una a medida que avance el an\u00e1lisis."
     ]
    },
    {
     "cell_type": "code",
     "collapsed": false,
     "input": [
      "import math\n",
      "# Cantidad de casos (tomados de la encuesta, siempre son iguales)\n",
      "n=968\n",
      "\n",
      "# Error est\u00e1ndar\n",
      "def se(p):\n",
      "    return math.sqrt(p*(1-p)/n)\n",
      "\n",
      "# Intervalo de confianza para una proporci\u00f3n p\n",
      "def ci(p):\n",
      "    return (round(p-1.96*se(p),3), round(p+1.96*se(p),3))\n",
      "\n",
      "# Intervalo de confianza, como porcentaje\n",
      "def ci_porc(p):\n",
      "    return (round(-1.96*se(p),4), round(+1.96*se(p),4))\n",
      "\n",
      "# Dados dos valores en la encuesta, indica si la diferencia es estad\u00edsticamente significativa\n",
      "def ci_dif(p1,p2):\n",
      "    ci=round(p1-p2-1.96*math.sqrt(((p1+p2)-(p1-p2)**2)/(n-1)),3)\n",
      "    cd=round(p1-p2+1.96*math.sqrt(((p1+p2)- (p1-p2)**2)/(n-1)),3)\n",
      "    print p1,p2,\"Diferencia:\",(p1-p2)\n",
      "    print \"Intervalo:\",(ci,cd)\n",
      "    if (ci<0 and cd>0) or (ci>0 and cd<0):\n",
      "        print \"La diferencia no es significativa\"\n",
      "    else:\n",
      "        print \"La diferencia es significativa\"\n",
      "\n",
      "# Calcula si la diferencia del mismo valor entre dos encuestas es estad\u00edsticamente significativa\n",
      "def ci_dif_between(p1,p2):\n",
      "    print p1,p2, \"Diferencia\",(p1-p2)\n",
      "    q1=1-p1\n",
      "    q2=1-p2\n",
      "    ci=round(p2-p1-1.96*math.sqrt(p1*q1/n+p2*q2/n),3)\n",
      "    cd=round(p2-p1+1.96*math.sqrt(p1*q1/n+p2*q2/n),3)\n",
      "    print \"Intervalo:\",(ci,cd)\n",
      "    if (ci<0 and cd>0) or (ci>0 and cd<0):\n",
      "        print \"La diferencia no es significativa\"\n",
      "    else:\n",
      "        print \"La diferencia es significativa\"\n",
      "    \n",
      "\n"
     ],
     "language": "python",
     "metadata": {},
     "outputs": [],
     "prompt_number": 5
    },
    {
     "cell_type": "markdown",
     "metadata": {},
     "source": [
      "Empecemos por ver los diferentes intervalos de confianza para cada partido, seg\u00fan la \u00faltima encuesta"
     ]
    },
    {
     "cell_type": "code",
     "collapsed": false,
     "input": [
      "# Veamos los intervalos de confianza para los votos al d\u00eda de hoy\n",
      "for (key,value) in votaciones_factum_2014.iteritems():\n",
      "    print key,votaciones_factum_2014[key],ci(votaciones_factum_2014[key])"
     ],
     "language": "python",
     "metadata": {},
     "outputs": [
      {
       "output_type": "stream",
       "stream": "stdout",
       "text": [
        "votoIndefinidos 0.04 (0.028, 0.052)\n",
        "votoFA 0.42 (0.389, 0.451)\n",
        "votoOtros 0.02 (0.011, 0.029)\n",
        "votoPC 0.15 (0.128, 0.172)\n",
        "votoPI 0.03 (0.019, 0.041)\n",
        "votoPN 0.32 (0.291, 0.349)\n"
       ]
      }
     ],
     "prompt_number": 6
    },
    {
     "cell_type": "markdown",
     "metadata": {},
     "source": [
      "Por ejemplo, el Frente Amplio est\u00e1 entre 0.389 y 0.451. El Partido Colorado est\u00e1 entre 0.128 y 0.17. Pero hay que tener en cuenta que estos rangos aplican a la proporci\u00f3n calculada, es decir al valor obtenido por cada partido en particular. No puede usarse ese rango para comparar valores (por cuestiones de varianza, errores est\u00e1ndar y esas cosas de estad\u00edsticos). Para eso, hay que hacer algunas cuentas (que est\u00e1n descritas en el paper, y programadas m\u00e1s arriba). Veamos algunos ejemplos: "
     ]
    },
    {
     "cell_type": "markdown",
     "metadata": {},
     "source": [
      "*Pregunta 1: \u00bfEs significativa la diferencia entre el FA y el PN?* Esta pregunta puede traducirse como \"\u00bfpodemos afirmar con confianza que el FA tiene m\u00e1s votos que el PN? (siempre dentro del 95% mencionado, que dije que no iba a mencionar de nuevo, pero no puedo evitarlo...). Calculemos el intervalo para la diferencia entre ambos votos. Si el rango no incluye al 0, entonces la diferencia es significativa:"
     ]
    },
    {
     "cell_type": "code",
     "collapsed": false,
     "input": [
      "cidif=ci_dif(votaciones_factum_2014['votoFA'],votaciones_factum_2014['votoPN'])"
     ],
     "language": "python",
     "metadata": {},
     "outputs": [
      {
       "output_type": "stream",
       "stream": "stdout",
       "text": [
        "0.42 0.32 Diferencia: 0.1\n",
        "Intervalo: (0.046, 0.154)\n",
        "La diferencia es significativa\n"
       ]
      }
     ],
     "prompt_number": 7
    },
    {
     "cell_type": "markdown",
     "metadata": {},
     "source": [
      "Es. Estamos bastante seguros de que (seg\u00fan las encuestas), va ganando el FA. _Pregunta 2: \u00bfEs significativa la diferencia entre el FA y los partidos tradicionales sumados?_"
     ]
    },
    {
     "cell_type": "code",
     "collapsed": false,
     "input": [
      "cidif=ci_dif(votaciones_factum_2014['votoFA'],votaciones_factum_2014['votoPN']+votaciones_factum_2014['votoPC'])"
     ],
     "language": "python",
     "metadata": {},
     "outputs": [
      {
       "output_type": "stream",
       "stream": "stdout",
       "text": [
        "0.42 0.47 Diferencia: -0.05\n",
        "Intervalo: (-0.109, 0.009)\n",
        "La diferencia no es significativa\n"
       ]
      }
     ],
     "prompt_number": 8
    },
    {
     "cell_type": "markdown",
     "metadata": {},
     "source": [
      "Primera observaci\u00f3n: si blancos y colorados suman sus votos, _no sabemos qu\u00e9 pasa_ \n",
      "\n",
      "Tambi\u00e9n podemos comparar resultados entre diferentes encuestas, para ver si hubo cambios. Con  _otra_ f\u00f3rmula. _Pregunta 3:\u00bfMejor\u00f3 el Partido Nacional del 2010 hasta ahora?_  "
     ]
    },
    {
     "cell_type": "code",
     "collapsed": false,
     "input": [
      "cidif=ci_dif_between(votaciones_factum_2010['votoPN'],votaciones_factum_2014['votoPN'])"
     ],
     "language": "python",
     "metadata": {},
     "outputs": [
      {
       "output_type": "stream",
       "stream": "stdout",
       "text": [
        "0.22 0.32 Diferencia -0.1\n",
        "Intervalo: (0.061, 0.139)\n",
        "La diferencia es significativa\n"
       ]
      }
     ],
     "prompt_number": 9
    },
    {
     "cell_type": "markdown",
     "metadata": {},
     "source": [
      "S\u00ed, mejor\u00f3. \u00bfY el Partido Colorado?"
     ]
    },
    {
     "cell_type": "code",
     "collapsed": false,
     "input": [
      "cidif=ci_dif_between(votaciones_factum_2010['votoPC'],votaciones_factum_2014['votoPC'])\n"
     ],
     "language": "python",
     "metadata": {},
     "outputs": [
      {
       "output_type": "stream",
       "stream": "stdout",
       "text": [
        "0.13 0.15 Diferencia -0.02\n",
        "Intervalo: (-0.011, 0.051)\n",
        "La diferencia no es significativa\n"
       ]
      }
     ],
     "prompt_number": 10
    },
    {
     "cell_type": "markdown",
     "metadata": {},
     "source": [
      "No, \u00bfy el FA?"
     ]
    },
    {
     "cell_type": "code",
     "collapsed": false,
     "input": [
      "cidif=ci_dif_between(votaciones_factum_2010['votoFA'],votaciones_factum_2014['votoFA'])"
     ],
     "language": "python",
     "metadata": {},
     "outputs": [
      {
       "output_type": "stream",
       "stream": "stdout",
       "text": [
        "0.49 0.42 Diferencia 0.07\n",
        "Intervalo: (-0.114, -0.026)\n",
        "La diferencia es significativa\n"
       ]
      }
     ],
     "prompt_number": 11
    },
    {
     "cell_type": "markdown",
     "metadata": {},
     "source": [
      "El FA est\u00e1 hoy peor que luego de ganar las elecciones. Pero tal vez ser\u00eda mejor comparar con el 2009 (es decir, _antes_ de las elecciones, en la misma \u00e9poca en la que estamos ahora). De hecho, podemos comparar a todos los partidos. "
     ]
    },
    {
     "cell_type": "code",
     "collapsed": false,
     "input": [
      "for partido in ['votoFA','votoPN','votoPC','votoPI']:\n",
      "    print partido\n",
      "    cidif=ci_dif_between(votaciones_factum_2009[partido],votaciones_factum_2014[partido])\n"
     ],
     "language": "python",
     "metadata": {},
     "outputs": [
      {
       "output_type": "stream",
       "stream": "stdout",
       "text": [
        "votoFA\n",
        "0.46 0.42 Diferencia 0.04\n",
        "Intervalo: (-0.084, 0.004)\n",
        "La diferencia no es significativa\n",
        "votoPN\n",
        "0.34 0.32 Diferencia 0.02\n",
        "Intervalo: (-0.062, 0.022)\n",
        "La diferencia no es significativa\n",
        "votoPC\n",
        "0.1 0.15 Diferencia -0.05\n",
        "Intervalo: (0.021, 0.079)\n",
        "La diferencia es significativa\n",
        "votoPI\n",
        "0.02 0.03 Diferencia -0.01\n",
        "Intervalo: (-0.004, 0.024)\n",
        "La diferencia no es significativa\n"
       ]
      }
     ],
     "prompt_number": 12
    },
    {
     "cell_type": "markdown",
     "metadata": {},
     "source": [
      "Lo \u00fanico que podr\u00edamos afirmar con \"certeza estad\u00edstica\" es que el Partido Colorado est\u00e1 mejor que en las elecciones pasadas. Despu\u00e9s, todo m\u00e1s o menos igual"
     ]
    },
    {
     "cell_type": "markdown",
     "metadata": {},
     "source": [
      "En los diarios uruguayos se hacen afirmaciones sobre las encuestas que parecen omitir el margen de error. Si un partido baj\u00f3 un punto, \"su imagen se ha deteriorado\". Si sube dos, \"muestra un repunte\". La mayor\u00eda de esas afirmaciones son estad\u00edsticamente _muy_ arriesgadas. Veamos un ejemplo: "
     ]
    },
    {
     "cell_type": "markdown",
     "metadata": {},
     "source": [
      "_Blancos y Colorados sumados siguen aventajando al Frente Amplio_ El Pa\u00eds 8/9/2014. http://www.elpais.com.uy/informacion/encuesta-factum-intencion-voto-septiembre.html"
     ]
    },
    {
     "cell_type": "code",
     "collapsed": false,
     "input": [
      "cidif=ci_dif(votaciones_factum_2014['votoFA'],votaciones_factum_2014['votoPN']+votaciones_factum_2014['votoPC'])"
     ],
     "language": "python",
     "metadata": {},
     "outputs": [
      {
       "output_type": "stream",
       "stream": "stdout",
       "text": [
        "0.42 0.47 Diferencia: -0.05\n",
        "Intervalo: (-0.109, 0.009)\n",
        "La diferencia no es significativa\n"
       ]
      }
     ],
     "prompt_number": 13
    },
    {
     "cell_type": "markdown",
     "metadata": {},
     "source": [
      "Como dijimos antes, los n\u00fameros son demasiado parecidos como para afirmar que este valor no es casualidad. En la misma nota: _\"el Frente Amplio detuvo la ca\u00edda\"_"
     ]
    },
    {
     "cell_type": "code",
     "collapsed": false,
     "input": [
      "cidif=ci_dif_between(votaciones_factum_julio_2014['votoFA'],votaciones_factum_2014['votoFA'])"
     ],
     "language": "python",
     "metadata": {},
     "outputs": [
      {
       "output_type": "stream",
       "stream": "stdout",
       "text": [
        "0.42 0.42 Diferencia 0.0\n",
        "Intervalo: (-0.044, 0.044)\n",
        "La diferencia no es significativa\n"
       ]
      }
     ],
     "prompt_number": 14
    },
    {
     "cell_type": "markdown",
     "metadata": {},
     "source": [
      "No sabemos. De hecho no sabemos si efectivamente ven\u00eda cayendo, porque la diferencia entre los n\u00fameros es siempre muy peque\u00f1a. En la misma nota: _\"El partido Nacional sigue creciendo\"_"
     ]
    },
    {
     "cell_type": "code",
     "collapsed": false,
     "input": [
      "cidif=ci_dif_between(votaciones_factum_julio_2014['votoPN'],votaciones_factum_2014['votoPN'])"
     ],
     "language": "python",
     "metadata": {},
     "outputs": [
      {
       "output_type": "stream",
       "stream": "stdout",
       "text": [
        "0.3 0.32 Diferencia -0.02\n",
        "Intervalo: (-0.021, 0.061)\n",
        "La diferencia no es significativa\n"
       ]
      }
     ],
     "prompt_number": 15
    },
    {
     "cell_type": "markdown",
     "metadata": {},
     "source": [
      "Tampoco.\n",
      "\n",
      "Estimado lector: la pr\u00f3xima vez que veas afirmaciones (especialmente sobre diferencias), desconf\u00eda. Lo m\u00e1s probable es que, salvo que la diferencia sea muy grande, el margen de error producido por encuestar a 900 personas sea tan grande que haga que las afirmaciones no sean tales. \n",
      "\n"
     ]
    },
    {
     "cell_type": "markdown",
     "metadata": {},
     "source": [
      "_El c\u00f3digo presentado en este notebook es tomado del art\u00edculo mencionado, si detectan alg\u00fan error por favor me avisan a @gmonce en Twitter._"
     ]
    },
    {
     "cell_type": "markdown",
     "metadata": {},
     "source": [
      "(*) Esto no es un juicio de valor, solamente un juego de palabras. http://en.wikipedia.org/wiki/Lies,_damned_lies,_and_statistics"
     ]
    }
   ],
   "metadata": {}
  }
 ]
}