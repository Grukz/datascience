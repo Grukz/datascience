{
 "metadata": {
  "name": "",
  "signature": "sha256:2a0139656cdec61b92061d0aba3e8df2bb2344c2aaff3b37e6f5d1fb0b8c709e"
 },
 "nbformat": 3,
 "nbformat_minor": 0,
 "worksheets": [
  {
   "cells": [
    {
     "cell_type": "heading",
     "level": 1,
     "metadata": {},
     "source": [
      "Machine Learning, Python y el Titanic"
     ]
    },
    {
     "cell_type": "heading",
     "level": 4,
     "metadata": {},
     "source": [
      "Guillermo Moncecchi (@gmonce) - Basado en el cap\u00edtulo 2 del libro \"Learning scikit-learn: Machine Learning in Python\""
     ]
    },
    {
     "cell_type": "markdown",
     "metadata": {},
     "source": [
      "_\u00bfEs posible tejer hip\u00f3tesis sobre qui\u00e9nes se salvaron en el Titanic? En este peque\u00f1o ejercicio, intentaremos generarlas a partir de la informaci\u00f3n que tenemos de los pasajeros, sabiendo si se salvaron o no. Para esto, el modelo predictivo a utilizar ser\u00e1n [\u00c1rboles de Decisi\u00f3n](http://en.wikipedia.org/wiki/Decision_tree_learning). El conjunto de datos (dataset) a utilizar puede bajarse [aqu\u00ed](http://biostat.mc.vanderbilt.edu/wiki/pub/Main/DataSets/titanic.txt)_"
     ]
    },
    {
     "cell_type": "markdown",
     "metadata": {},
     "source": [
      "Importamos las bibliotecas que vamos a utilizar. Las principales son numpy (la biblioteca principal para computaci\u00f3n cient\u00edfica con Python), y, por supuesto scikit-learn (que nos permitir\u00e1 entrenar y aplicar el modelo elegido).  "
     ]
    },
    {
     "cell_type": "code",
     "collapsed": false,
     "input": [
      "import IPython\n",
      "import sklearn as sk\n",
      "import numpy as np\n",
      "import pydot\n",
      "import pyparsing\n",
      "\n",
      "print 'IPython version:', IPython.__version__\n",
      "print 'numpy version:', np.__version__\n",
      "print 'scikit-learn version:', sk.__version__\n",
      "print 'pydot version:', pydot.__version__\n",
      "print 'pyparsing version:', pyparsing.__version__"
     ],
     "language": "python",
     "metadata": {},
     "outputs": [
      {
       "output_type": "stream",
       "stream": "stdout",
       "text": [
        " IPython version: 2.2.0\n",
        "numpy version: 1.9.0\n",
        "scikit-learn version: 0.15.2\n",
        "pydot version: 1.0.28\n",
        "pyparsing version: 1.5.6\n"
       ]
      }
     ],
     "prompt_number": 2
    },
    {
     "cell_type": "markdown",
     "metadata": {},
     "source": [
      "_Notar que la versi\u00f3n de pyparsing es la 1.5.6, pydot tiene problemas con pyparsing >=2.0, por lo tanto tenemos que recurir a una versi\u00f3n anterior. M\u00e1s info: http://stackoverflow.com/questions/15951748/pydot-and-graphviz-error-couldnt-import-dot-parser-loading-of-dot-files-will/21462609#21462609_. Si tienen instalado Anaconda (muy recomendado!), basta con hacer:\n",
      "\n",
      "    $ conda remove pyparsing\n",
      "$ conda install conda install pyparsing==1.5.6\n",
      "\n"
     ]
    },
    {
     "cell_type": "heading",
     "level": 3,
     "metadata": {},
     "source": [
      "Preprocesamiento e Ingenier\u00eda de Atributos"
     ]
    },
    {
     "cell_type": "markdown",
     "metadata": {},
     "source": [
      "Vamos a leer el archivo que tenemos..."
     ]
    },
    {
     "cell_type": "markdown",
     "metadata": {},
     "source": [
      "La lista de atributos es: Ordinal, Class, Survived (0=no, 1=yes), Name, Age, Port of Embarkation, Home/Destination, Room, Ticket, Boat, and Sex. Empecemos por cargar nuestro archivo a un array de numpy, para poder trabajar m\u00e1s c\u00f3modos (hay herramientas mucho mejores para manejar estos atributos, como [pandas](http://pandas.pydata.org/), pero mantengamos las cosas simples, ya que nuestro problema no es complicado):"
     ]
    },
    {
     "cell_type": "code",
     "collapsed": false,
     "input": [
      "import csv\n",
      "with open('../data/titanic.txt', 'rb') as csvfile:\n",
      "    titanic_reader = csv.reader(csvfile, delimiter=',', quotechar='\"')\n",
      "    \n",
      "    # Importo el dataset como array de numpy\n",
      "    titanic_dataset = np.array([ row for row in titanic_reader])\n",
      "    print titanic_dataset[12]\n",
      "    \n",
      "    # La primera fila tiene los nombres de los atributos\n",
      "    feature_names = titanic_dataset[0]\n",
      "    print feature_names\n",
      "    \n",
      "    # En la columna 2 tenemos la clase que queremos predecir (es decir, si sobrevivi\u00f3 o no)\n",
      "    # Vale 1 si sobrevivi\u00f3, 0 si no.\n",
      "    titanic_y=titanic_dataset[1:,2].astype(float)\n",
      "    print titanic_y[12]\n"
     ],
     "language": "python",
     "metadata": {},
     "outputs": [
      {
       "output_type": "stream",
       "stream": "stdout",
       "text": [
        "['12' '1st' '1' 'Astor, Mrs John Jacob (Madeleine Talmadge Force)'\n",
        " '19.0000' 'Cherbourg' 'New York, NY' '' '17754 L224 10s 6d' '4' 'female']\n",
        "['row.names' 'pclass' 'survived' 'name' 'age' 'embarked' 'home.dest' 'room'\n",
        " 'ticket' 'boat' 'sex']\n",
        "1.0\n"
       ]
      }
     ],
     "prompt_number": 3
    },
    {
     "cell_type": "markdown",
     "metadata": {},
     "source": [
      "Veamos c\u00f3mo quedan las tuplas..."
     ]
    },
    {
     "cell_type": "code",
     "collapsed": false,
     "input": [
      "print zip(feature_names, titanic_dataset[1])"
     ],
     "language": "python",
     "metadata": {},
     "outputs": [
      {
       "output_type": "stream",
       "stream": "stdout",
       "text": [
        "[('row.names', '1'), ('pclass', '1st'), ('survived', '1'), ('name', 'Allen, Miss Elisabeth Walton'), ('age', '29.0000'), ('embarked', 'Southampton'), ('home.dest', 'St Louis, MO'), ('room', 'B-5'), ('ticket', '24160 L221'), ('boat', '2'), ('sex', 'female')]\n"
       ]
      }
     ],
     "prompt_number": 4
    },
    {
     "cell_type": "markdown",
     "metadata": {},
     "source": [
      "La primera tupla corresponde a Elisabeth Walton, de 29 a\u00f1os, que embarc\u00f3 en Southampton, iba a St. Louis,estaba en el cuarto B-5, y ten\u00eda el ticket 24160 L221, en primera clase. Elisabeth sobrevivi\u00f3.Estos datos los tenemos para todos los pasajeros. Aqu\u00ed es donde tenemos que elegir las features que vamos a usar para aprender. En este caso, elegimos la clase, la edad, y el sexo. El destino no parece influenciar mucho, d\u00f3nde embarc\u00f3 tampoco... de acuerdo a nuestro conocimiento... aunque nada nos impide agregarlo luego como feature. El nombre no puede ir, ya que es imposible que sirva para generalizar. Por supuesto, no podemos usar para predecir la clase que estamos tratando de adivinar, as\u00ed que la columna \"survived\" tambi\u00e9n desaparece."
     ]
    },
    {
     "cell_type": "code",
     "collapsed": false,
     "input": [
      "# Elegimos las columnas que tiene la clase, la edad, y el sexo\n",
      "titanic_X = titanic_dataset[1:, [1, 4, 10]]\n",
      "#print [row in titanic_X if row[1]=='NA']\n",
      "#print zip(titanic_X[0:100].tolist(), titanic_y[1:100].tolist())\n",
      "print zip(titanic_X[10:20].tolist(), titanic_y[10:20].tolist())\n",
      "\n"
     ],
     "language": "python",
     "metadata": {},
     "outputs": [
      {
       "output_type": "stream",
       "stream": "stdout",
       "text": [
        "[(['1st', '47.0000', 'male'], 0.0), (['1st', '19.0000', 'female'], 1.0), (['1st', 'NA', 'female'], 1.0), (['1st', 'NA', 'male'], 1.0), (['1st', 'NA', 'male'], 0.0), (['1st', '50.0000', 'female'], 1.0), (['1st', '24.0000', 'male'], 0.0), (['1st', '36.0000', 'male'], 0.0), (['1st', '37.0000', 'male'], 1.0), (['1st', '47.0000', 'female'], 1.0)]\n"
       ]
      }
     ],
     "prompt_number": 5
    },
    {
     "cell_type": "markdown",
     "metadata": {},
     "source": [
      "Tenemos algunos problemas con la edad: en algunos casos no tiene valores:"
     ]
    },
    {
     "cell_type": "code",
     "collapsed": false,
     "input": [
      "print titanic_X[14]\n"
     ],
     "language": "python",
     "metadata": {},
     "outputs": [
      {
       "output_type": "stream",
       "stream": "stdout",
       "text": [
        "['1st' 'NA' 'male']\n"
       ]
      }
     ],
     "prompt_number": 6
    },
    {
     "cell_type": "markdown",
     "metadata": {},
     "source": [
      "Tenemos que hacer algo: elegimos poner el valor medio..."
     ]
    },
    {
     "cell_type": "code",
     "collapsed": false,
     "input": [
      "# Calculo la edad promedio\n",
      "edades = titanic_X[:, 1]\n",
      "edad_promedio=np.mean(titanic_X[edades != 'NA', 1].astype(np.float))\n",
      "print edad_promedio\n",
      "\n",
      "# Actualizo\n",
      "titanic_X[titanic_X[:, 1] == 'NA', 1] = edad_promedio\n",
      "print zip(titanic_X[10:20].tolist(), titanic_y[10:20].tolist())\n"
     ],
     "language": "python",
     "metadata": {},
     "outputs": [
      {
       "output_type": "stream",
       "stream": "stdout",
       "text": [
        "31.1941810427\n",
        "[(['1st', '47.0000', 'male'], 0.0), (['1st', '19.0000', 'female'], 1.0), (['1st', '31.1941810427', 'female'], 1.0), (['1st', '31.1941810427', 'male'], 1.0), (['1st', '31.1941810427', 'male'], 0.0), (['1st', '50.0000', 'female'], 1.0), (['1st', '24.0000', 'male'], 0.0), (['1st', '36.0000', 'male'], 0.0), (['1st', '37.0000', 'male'], 1.0), (['1st', '47.0000', 'female'], 1.0)]\n"
       ]
      }
     ],
     "prompt_number": 7
    },
    {
     "cell_type": "markdown",
     "metadata": {},
     "source": [
      "Bien. Veamos ahora la clase y el sexo: el clasificador que vamos a usar espera atributos que son n\u00fameros reales y hoy los tenemos como categor\u00edas. Empecemos por sexo: solamente hay dos categor\u00edas, por lo que podemos decir (por ejemplo) que femenino es 0 y masculino es 1. scikit-learn nos provee de una clase LabelEncoder que hace esto...:"
     ]
    },
    {
     "cell_type": "code",
     "collapsed": false,
     "input": [
      "from sklearn.preprocessing import LabelEncoder\n",
      "enc = LabelEncoder()\n",
      "# Le paso los valores que tengo y el asigna un entero a cada clase posible\n",
      "label_encoder = enc.fit(titanic_X[:, 2])\n",
      "print \"Categorical classes:\", label_encoder.classes_\n",
      "# Veamos como las transforma...\n",
      "integer_classes = label_encoder.transform(label_encoder.classes_)\n",
      "print \"Integer classes:\", zip(label_encoder.classes_,integer_classes)\n",
      "\n",
      "t = label_encoder.transform(titanic_X[:, 2])\n",
      "titanic_X[:, 2] = t\n",
      "print zip(titanic_X[10:20].tolist(), titanic_y[10:20].tolist())\n"
     ],
     "language": "python",
     "metadata": {},
     "outputs": [
      {
       "output_type": "stream",
       "stream": "stdout",
       "text": [
        "Categorical classes: ['female' 'male']\n",
        "Integer classes: [('female', 0), ('male', 1)]\n",
        "[(['1st', '47.0000', '1'], 0.0), (['1st', '19.0000', '0'], 1.0), (['1st', '31.1941810427', '0'], 1.0), (['1st', '31.1941810427', '1'], 1.0), (['1st', '31.1941810427', '1'], 0.0), (['1st', '50.0000', '0'], 1.0), (['1st', '24.0000', '1'], 0.0), (['1st', '36.0000', '1'], 0.0), (['1st', '37.0000', '1'], 1.0), (['1st', '47.0000', '0'], 1.0)]\n"
       ]
      }
     ],
     "prompt_number": 8
    },
    {
     "cell_type": "markdown",
     "metadata": {},
     "source": [
      "Bien, nos resta la clase del pasajero. Tenemos primera, segunda y tercera. Para evitar un ordenamiento impl\u00edcito (0<1<2), vamos a usar otra t\u00e9cnica, llamada \"One Hot Encoding\". Lo mejor es verlo con un ejemplo, pero la idea es convertir cada atributo en n, siendo n los valores posibles de ese atributo. Para este caso, generaremos los atributos: primera_clase, segunda_clase, y tercera_clase, valuados en 0/1."
     ]
    },
    {
     "cell_type": "code",
     "collapsed": false,
     "input": [
      "from sklearn.preprocessing import OneHotEncoder\n",
      "lencoder = LabelEncoder()\n",
      "label_encoder = lencoder.fit(titanic_X[:,0])\n",
      "integer_classes = label_encoder.transform(label_encoder.classes_).reshape(3,1)\n",
      "#titanic_integer_classes=label_encoder.transform(titanic_X[:,0])\n",
      "enc = OneHotEncoder()\n",
      "one_hot_encoder=enc.fit(integer_classes)\n",
      "# First, convert clases to 0-(N-1) integers using label_encoder\n",
      "num_of_rows = titanic_X.shape[0]\n",
      "t = label_encoder.transform(titanic_X[:, 0]).reshape(num_of_rows, 1)\n",
      "# Second, create a sparse matrix with three columns, each one indicating if the instance belongs to the class\n",
      "new_features = one_hot_encoder.transform(t)\n",
      "# Add the new features to titanix_X\n",
      "titanic_X = np.concatenate([titanic_X, new_features.toarray()], axis = 1)\n",
      "#Eliminate converted columns\n",
      "titanic_X = np.delete(titanic_X, [0], 1)\n",
      "# Update feature names\n",
      "feature_names = ['edad', 'sexo', 'primera_clase', 'segunda_clase', 'tercera_clase']\n",
      "# Convert to numerical values\n",
      "titanic_X = titanic_X.astype(float)\n",
      "titanic_y = titanic_y.astype(float)\n"
     ],
     "language": "python",
     "metadata": {},
     "outputs": [],
     "prompt_number": 9
    },
    {
     "cell_type": "code",
     "collapsed": false,
     "input": [
      "print 'New feature names:',feature_names\n",
      "print 'Values:',titanic_X[0]\n",
      "print 'Objetivo:', titanic_y[0]"
     ],
     "language": "python",
     "metadata": {},
     "outputs": [
      {
       "output_type": "stream",
       "stream": "stdout",
       "text": [
        "New feature names: ['edad', 'sexo', 'primera_clase', 'segunda_clase', 'tercera_clase']\n",
        "Values: [ 29.   0.   1.   0.   0.]\n",
        "Objetivo: 1.0\n"
       ]
      }
     ],
     "prompt_number": 10
    },
    {
     "cell_type": "code",
     "collapsed": false,
     "input": [
      "print titanic_X"
     ],
     "language": "python",
     "metadata": {},
     "outputs": [
      {
       "output_type": "stream",
       "stream": "stdout",
       "text": [
        "[[ 29.           0.           1.           0.           0.        ]\n",
        " [  2.           0.           1.           0.           0.        ]\n",
        " [ 30.           1.           1.           0.           0.        ]\n",
        " ..., \n",
        " [ 31.19418104   1.           0.           0.           1.        ]\n",
        " [ 31.19418104   0.           0.           0.           1.        ]\n",
        " [ 31.19418104   1.           0.           0.           1.        ]]\n"
       ]
      }
     ],
     "prompt_number": 19
    },
    {
     "cell_type": "markdown",
     "metadata": {},
     "source": [
      "Ya tenemos pronto el dataset, reci\u00e9n ahora comienza el proceso de aprendizaje. Vamos primero separar el dataset en dos: un conjunto de entrenamiento y otro de testeo. Trabajaremos siempre sobre el de entrenamiento, y dejamos el de testeo para evaluar nuestros resultados. Lo dividimos en 75/25:"
     ]
    },
    {
     "cell_type": "code",
     "collapsed": false,
     "input": [
      "from sklearn.cross_validation import train_test_split\n",
      "X_train, X_test, y_train, y_test = train_test_split(titanic_X, titanic_y, test_size=0.25, random_state=33)\n"
     ],
     "language": "python",
     "metadata": {},
     "outputs": [],
     "prompt_number": 11
    },
    {
     "cell_type": "heading",
     "level": 3,
     "metadata": {},
     "source": [
      "\u00c1rboles de Decision"
     ]
    },
    {
     "cell_type": "markdown",
     "metadata": {},
     "source": [
      "Vamos a crear a partir de los datos de entrenamiento, un \u00e1rbol de decision. Esto en scikit-learn es est\u00e1ndar... y f\u00e1cil, una vez que tenemos los datos en el formato pedido: basta crear el clasificador y usarlo para generar el modelo: "
     ]
    },
    {
     "cell_type": "code",
     "collapsed": false,
     "input": [
      "from sklearn import tree\n",
      "clf = tree.DecisionTreeClassifier(criterion='entropy', max_depth=3,min_samples_leaf=5)\n",
      "clf = clf.fit(X_train,y_train)"
     ],
     "language": "python",
     "metadata": {},
     "outputs": [],
     "prompt_number": 12
    },
    {
     "cell_type": "markdown",
     "metadata": {},
     "source": [
      "The decision tree we have built represents a series of decisions based on the training data. To classify an instance, we should answer the question at each node. For example, at our root node, the question is: Is sex<=0.5? (are we talking about a woman?). If the answer is yes, you go to the left child node in the tree; otherwise you go to the right child node. You keep answering questions (was she in the third class?, was she in the first class?, and was she below 13 years old?), until you reach a leaf. When you are there, the prediction corresponds to the target class that has most instances (that is if the answers are given to the previous questions). In our case, if she was a woman from second class, the answer would be 1 (that is she survived), and so on. Let's drawit, using pyplot:"
     ]
    },
    {
     "cell_type": "code",
     "collapsed": false,
     "input": [
      "import StringIO\n",
      "dot_data = StringIO.StringIO() \n",
      "tree.export_graphviz(clf, out_file=dot_data, feature_names=feature_names) \n",
      "graph = pydot.graph_from_dot_data(dot_data.getvalue()) \n",
      "graph.write_png('titanic.png') \n",
      "from IPython.core.display import Image \n",
      "Image(filename='titanic.png')"
     ],
     "language": "python",
     "metadata": {},
     "outputs": [
      {
       "metadata": {},
       "output_type": "pyout",
       "png": "[encoded data removed]",
       "prompt_number": 13,
       "text": [
        "<IPython.core.display.Image at 0x7f1e67049b50>"
       ]
      }
     ],
     "prompt_number": 13
    },
    {
     "cell_type": "markdown",
     "metadata": {},
     "source": [
      "Veamos c\u00f3mo funciona nuestro modelo. Supongamos que hab\u00eda un hombre de 20 a\u00f1os en tercera clase (a.k.a. Leonardo di Caprio)... \u00bfse hubiera salvado?"
     ]
    },
    {
     "cell_type": "code",
     "collapsed": false,
     "input": [
      "print clf.predict([[20.0,1.0,0.0,0.0,1.0]])\n"
     ],
     "language": "python",
     "metadata": {},
     "outputs": [
      {
       "output_type": "stream",
       "stream": "stdout",
       "text": [
        "[ 0.]\n"
       ]
      }
     ],
     "prompt_number": 20
    },
    {
     "cell_type": "markdown",
     "metadata": {},
     "source": [
      "Nop. Podemos verificarlo siguiendo el \u00e1rbol... \n",
      "\n",
      "Pero, \u00bfc\u00f3mo sabemos qu\u00e9 tan bien anda en general nuestro clasificador? Empecemos por evaluarlo sobre los propios datos de entrenamiento, y viendo en cu\u00e1ntos casos acierta (esta medida se llama accuracy)... y algunas medidas m\u00e1s."
     ]
    },
    {
     "cell_type": "code",
     "collapsed": false,
     "input": [
      "from sklearn import metrics\n",
      "def measure_performance(X,y,clf, show_accuracy=True, show_classification_report=True, show_confusion_matrix=True):\n",
      "    y_pred=clf.predict(X)   \n",
      "    if show_accuracy:\n",
      "        print \"Accuracy:{0:.3f}\".format(metrics.accuracy_score(y,y_pred)),\"\\n\"\n",
      "\n",
      "    if show_classification_report:\n",
      "        print \"Classification report\"\n",
      "        print metrics.classification_report(y,y_pred),\"\\n\"\n",
      "        \n",
      "    if show_confusion_matrix:\n",
      "        print \"Confusion matrix\"\n",
      "        print metrics.confusion_matrix(y,y_pred),\"\\n\"\n",
      "        \n",
      "measure_performance(X_train,y_train,clf, show_classification_report=True, show_confusion_matrix=True)"
     ],
     "language": "python",
     "metadata": {},
     "outputs": [
      {
       "output_type": "stream",
       "stream": "stdout",
       "text": [
        "Accuracy:0.838 \n",
        "\n",
        "Classification report\n",
        "             precision    recall  f1-score   support\n",
        "\n",
        "        0.0       0.82      0.98      0.89       662\n",
        "        1.0       0.93      0.55      0.69       322\n",
        "\n",
        "avg / total       0.85      0.84      0.82       984\n",
        "\n",
        "\n",
        "Confusion matrix\n",
        "[[649  13]\n",
        " [146 176]] \n",
        "\n"
       ]
      }
     ],
     "prompt_number": 15
    },
    {
     "cell_type": "markdown",
     "metadata": {},
     "source": [
      "El problema es que esto es riesgoso. Estamos evaluando sobre los mismos datos que utilziamos para crear el modelo! Esto siempre es una mala idea... para eso guardamos nuestro dataset de evaluaci\u00f3n... evaluemos c\u00f3mo se comporta nuestro modelo sobre este dataset: "
     ]
    },
    {
     "cell_type": "code",
     "collapsed": false,
     "input": [
      "measure_performance(X_test,y_test, clf, show_classification_report=True, show_confusion_matrix=True)"
     ],
     "language": "python",
     "metadata": {},
     "outputs": [
      {
       "output_type": "stream",
       "stream": "stdout",
       "text": [
        "Accuracy:0.793 \n",
        "\n",
        "Classification report\n",
        "             precision    recall  f1-score   support\n",
        "\n",
        "        0.0       0.77      0.96      0.85       202\n",
        "        1.0       0.88      0.54      0.67       127\n",
        "\n",
        "avg / total       0.81      0.79      0.78       329\n",
        "\n",
        "\n",
        "Confusion matrix\n",
        "[[193   9]\n",
        " [ 59  68]] \n",
        "\n"
       ]
      }
     ],
     "prompt_number": 16
    }
   ],
   "metadata": {}
  }
 ]
}