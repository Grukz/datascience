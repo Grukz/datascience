{
 "metadata": {
  "name": "",
  "signature": "sha256:02947f6cf481960c85cbd3097b17066288fbf69fd6b66c022f2bdb13327567a2"
 },
 "nbformat": 3,
 "nbformat_minor": 0,
 "worksheets": [
  {
   "cells": [
    {
     "cell_type": "heading",
     "level": 2,
     "metadata": {},
     "source": [
      "Mentiras, malditas mentiras, y encuestas (*)\n"
     ]
    },
    {
     "cell_type": "heading",
     "level": 4,
     "metadata": {},
     "source": [
      "Guillermo Moncecchi (@gmonce)"
     ]
    },
    {
     "cell_type": "markdown",
     "metadata": {},
     "source": [
      "\u00c9poca de elecciones, \u00e9poca de encuestas. Y \u00e9poca de an\u00e1lisis de encuestas. Hace tiempo (mucho tiempo) que tengo la misma impresi\u00f3n: me parece que la mayor\u00eda de las afirmaciones que hacen los polit\u00f3logos (y, mucho m\u00e1s, los medios) son, directamente err\u00f3neas, o al menos no se desprenden de los datos. Van dos encuestas en las que baja un punto y entonces: \"El Frente Amplio consolida su ca\u00edda\". Pero, claro, mi afirmaci\u00f3n es tan imprecisa como las originales. \n",
      "\n",
      "Aunque trabajo habitualmente con probabilidades, no soy ni de lejos un experto (siquiera un conocedor profundo) de los m\u00e9todos estad\u00edsticos. As\u00ed que le\u00ed un poco, busqu\u00e9 otro poco... y finalmente encontr\u00e9 exactamente lo que quer\u00eda: este art\u00edculo sobre c\u00f3mo analizar resultados de encuestas, y c\u00f3mo tener en cuenta el \"margen de error\" reportado. Si les interesa leerlo, se llama \"The 'Margin of Error' for Differences in Polls\", de Charles Franklin, y est\u00e1 disponible en https://abcnews.go.com/images/PollingUnit/MOEFranklin.pdf. \n",
      "\n",
      "Algunos comentarios, antes de empezar: \n",
      "\n",
      "- Una encuesta es una consulta a un grupo de gente, esperando que sea representativa del total de la poblaci\u00f3n (en este caso, los votantes). \n",
      "- El n\u00famero que se publica es la proporci\u00f3n de votantes que eligi\u00f3 a cada partido (por ejemplo: 0.32 para el Partido Nacional quiere decir que 32 de cada 100 encuestados tom\u00f3 esa opci\u00f3n). \n",
      "- Aadem\u00e1s, se publica un \"margen de error\" (del tipo +/- x%) y un \"nivel de confianza\" (t\u00edpicamente del 95%), que dice lo siguiente (leer atentamente, porque es larguito): si hacemos 100 encuestas como \u00e9stas, en 95 de ellas, el n\u00famero va a estar entre el valor de la proporci\u00f3n m\u00e1s/menos el valor del margen de error. A esto se le llama usualmente _intervalo de confianza_. Por ejemplo, si el margen de error es +/- 3,2%, y el nivel de confianza es el 95%,  el 0.32 se transforma en un rango entre 0.288 y 0.352 (expresado usualmente como [0.288,0.352]). \n",
      "- Si leemos nuevamente lo anterior, vemos que quiere decir, nada m\u00e1s ni nada menos, que una de cada 20 veces que haga esta encuesta me voy a equivocar y el n\u00famero va a salirse del rango. _No quiere decir_ que haya un 95% de certeza (y por eso el t\u00e9rmino \"confianza\" no es muy adecuado) sobre los resultados.\n",
      "- Cuando un valor cae dentro del intervalo de confianza, decimos que es _estad\u00edsticamente significativo_, lo cual quiere decir que no es probable que haya sido por azar.\n",
      "\n",
      "O sea, a las encuestas hay que tomarlas con pinzas. No voy a repetirlo, pero cada vez que demos un valor o un intervalo, recuerden que 1 de cada 20 veces es normal errarle. Normal. \n",
      "\n",
      "Vamos a los datos para ver ejemplos: consideramos la encuesta Factum en el 2009 en diversas ediciones (elijo la misma encuesta para que las comparaciones sean v\u00e1lidas, porque uno supone que el m\u00e9todo es el mismo):"
     ]
    },
    {
     "cell_type": "code",
     "collapsed": false,
     "input": [
      "# Datos\n",
      "# Consideramos los votos a setiembre de diferentes a\u00f1os, para ver c\u00f3mo van cambiando\n",
      "votaciones_factum_2014={'votoFA':0.42,'votoPN':0.32,'votoPC':0.15,'votoPI':0.03,'votoIndefinidos':0.04,'votoOtros':0.02}\n",
      "votaciones_factum_julio_2014={'votoFA':0.42,'votoPN':0.30,'votoPC':0.14,'votoPI':0.03,'votoIndefinidos':0.04,'votoOtros':0.02}\n",
      "votaciones_factum_2013={'votoFA':0.43,'votoPN':0.23,'votoPC':0.16,'votoPI':0.02,'votoIndefinidos':0.08,'votoOtros':0.08}\n",
      "votaciones_factum_2010={'votoFA':0.49,'votoPN':0.22,'votoPC':0.13,'votoPI':0.00,'votoIndefinidos':0.00,'votoOtros':0.00}\n",
      "votaciones_factum_2009={'votoFA':0.46,'votoPN':0.34,'votoPC':0.10,'votoPI':0.02,'votoIndefinidos':0.06,'votoOtros':0.02}\n"
     ],
     "language": "python",
     "metadata": {},
     "outputs": [],
     "prompt_number": 1
    },
    {
     "cell_type": "markdown",
     "metadata": {},
     "source": [
      "La biblioteca $franklin.py$ (en Python) tiene la definici\u00f3n de las funciones que vamos a utilizar. Para los que les interese el c\u00f3digo para jugar con sus propios n\u00fameros, est\u00e1n disponibles [aqu\u00ed](), pero son exactamente las f\u00f3rmulas mencionadas en el paper. *Desaf\u00edo para programadores con m\u00e1s habilidades (y tiempo) que yo: hacer una p\u00e1gina web que haga estas cuentas para cualquier par de valores en las encuestas*"
     ]
    },
    {
     "cell_type": "code",
     "collapsed": false,
     "input": [
      "from franklin import *"
     ],
     "language": "python",
     "metadata": {},
     "outputs": [],
     "prompt_number": 2
    },
    {
     "cell_type": "markdown",
     "metadata": {},
     "source": [
      "Empecemos por ver los diferentes intervalos de confianza para cada partido, seg\u00fan la \u00faltima encuesta (Setiembre de 2014):"
     ]
    },
    {
     "cell_type": "code",
     "collapsed": false,
     "input": [
      "# Veamos los intervalos de confianza para los votos al d\u00eda de hoy\n",
      "for (key,value) in votaciones_factum_2014.iteritems():\n",
      "    print key,votaciones_factum_2014[key],ci(votaciones_factum_2014[key])"
     ],
     "language": "python",
     "metadata": {},
     "outputs": [
      {
       "output_type": "stream",
       "stream": "stdout",
       "text": [
        "votoIndefinidos 0.04 (0.028, 0.052)\n",
        "votoFA 0.42 (0.389, 0.451)\n",
        "votoOtros 0.02 (0.011, 0.029)\n",
        "votoPC 0.15 (0.128, 0.172)\n",
        "votoPI 0.03 (0.019, 0.041)\n",
        "votoPN 0.32 (0.291, 0.349)\n"
       ]
      }
     ],
     "prompt_number": 3
    },
    {
     "cell_type": "markdown",
     "metadata": {},
     "source": [
      "Por ejemplo, el Frente Amplio est\u00e1 entre 0.389 y 0.451. El Partido Colorado est\u00e1 entre 0.128 y 0.17. Pero hay que tener en cuenta que estos rangos aplican a la proporci\u00f3n calculada, es decir al valor obtenido por cada partido en particular. No puede usarse ese rango para comparar valores (por cuestiones de varianza, errores est\u00e1ndar y esas cosas de estad\u00edsticos). Para eso, hay que hacer algunas cuentas (que est\u00e1n descritas en el paper, y programadas m\u00e1s arriba). Veamos algunos ejemplos: "
     ]
    },
    {
     "cell_type": "markdown",
     "metadata": {},
     "source": [
      "*Pregunta 1: \u00bfEs estad\u00edsticamente significativa la diferencia entre el FA y el PN?* Esta pregunta puede traducirse como \"\u00bfpodemos afirmar con confianza que el FA tiene m\u00e1s votos que el PN? (siempre dentro del 95% mencionado, que dije que no iba a mencionar de nuevo, pero no puedo evitarlo...). Calculemos el intervalo para la diferencia entre ambos votos. Si el rango no incluye al 0, entonces la diferencia es significativa:"
     ]
    },
    {
     "cell_type": "code",
     "collapsed": false,
     "input": [
      "cidif=ci_dif(votaciones_factum_2014['votoFA'],votaciones_factum_2014['votoPN'])"
     ],
     "language": "python",
     "metadata": {},
     "outputs": [
      {
       "output_type": "stream",
       "stream": "stdout",
       "text": [
        "0.42 0.32 Diferencia: 0.1\n",
        "Intervalo: (0.046, 0.154)\n",
        "La diferencia es significativa\n"
       ]
      }
     ],
     "prompt_number": 4
    },
    {
     "cell_type": "markdown",
     "metadata": {},
     "source": [
      "Es. Estamos bastante seguros de que (seg\u00fan las encuestas), va ganando el FA. _Pregunta 2: \u00bfEs significativa la diferencia entre el FA y los partidos tradicionales sumados?_"
     ]
    },
    {
     "cell_type": "code",
     "collapsed": false,
     "input": [
      "cidif=ci_dif(votaciones_factum_2014['votoFA'],votaciones_factum_2014['votoPN']+votaciones_factum_2014['votoPC'])"
     ],
     "language": "python",
     "metadata": {},
     "outputs": [
      {
       "output_type": "stream",
       "stream": "stdout",
       "text": [
        "0.42 0.47 Diferencia: -0.05\n",
        "Intervalo: (-0.109, 0.009)\n",
        "La diferencia no es significativa\n"
       ]
      }
     ],
     "prompt_number": 5
    },
    {
     "cell_type": "markdown",
     "metadata": {},
     "source": [
      "Primera observaci\u00f3n: si blancos y colorados suman sus votos, _no sabemos qu\u00e9 pasa_. Atenci\u00f3n cuando digo que no sabemos qu\u00e9 pasa, no estoy hablando de indecisos. Estoy diciendo que con la cantidad de gente que encuestamos, los modelos estad\u00edsticos en las que nos basamos nos dicen que no alcanza para hacer la afirmaci\u00f3n, al menos para no errarle en m\u00e1s de 1 en 20 veces.\n",
      "\n",
      "Tambi\u00e9n podemos comparar resultados entre diferentes encuestas, para ver si hubo cambios. Con  _otra_ f\u00f3rmula. _Pregunta 3:\u00bfMejor\u00f3 el Partido Nacional del 2010 hasta ahora?_  "
     ]
    },
    {
     "cell_type": "code",
     "collapsed": false,
     "input": [
      "cidif=ci_dif_between(votaciones_factum_2010['votoPN'],votaciones_factum_2014['votoPN'])"
     ],
     "language": "python",
     "metadata": {},
     "outputs": [
      {
       "output_type": "stream",
       "stream": "stdout",
       "text": [
        "0.22 0.32 Diferencia -0.1\n",
        "Intervalo: (0.061, 0.139)\n",
        "La diferencia es significativa\n"
       ]
      }
     ],
     "prompt_number": 6
    },
    {
     "cell_type": "markdown",
     "metadata": {},
     "source": [
      "S\u00ed, mejor\u00f3. \u00bfY el Partido Colorado?"
     ]
    },
    {
     "cell_type": "code",
     "collapsed": false,
     "input": [
      "cidif=ci_dif_between(votaciones_factum_2010['votoPC'],votaciones_factum_2014['votoPC'])\n"
     ],
     "language": "python",
     "metadata": {},
     "outputs": [
      {
       "output_type": "stream",
       "stream": "stdout",
       "text": [
        "0.13 0.15 Diferencia -0.02\n",
        "Intervalo: (-0.011, 0.051)\n",
        "La diferencia no es significativa\n"
       ]
      }
     ],
     "prompt_number": 7
    },
    {
     "cell_type": "markdown",
     "metadata": {},
     "source": [
      "No, \u00bfy el FA?"
     ]
    },
    {
     "cell_type": "code",
     "collapsed": false,
     "input": [
      "cidif=ci_dif_between(votaciones_factum_2010['votoFA'],votaciones_factum_2014['votoFA'])"
     ],
     "language": "python",
     "metadata": {},
     "outputs": [
      {
       "output_type": "stream",
       "stream": "stdout",
       "text": [
        "0.49 0.42 Diferencia 0.07\n",
        "Intervalo: (-0.114, -0.026)\n",
        "La diferencia es significativa\n"
       ]
      }
     ],
     "prompt_number": 8
    },
    {
     "cell_type": "markdown",
     "metadata": {},
     "source": [
      "El FA est\u00e1 hoy peor que luego de ganar las elecciones. Pero tal vez ser\u00eda mejor comparar con el 2009 (es decir, _antes_ de las elecciones, en la misma \u00e9poca en la que estamos ahora). De hecho, podemos comparar a todos los partidos. "
     ]
    },
    {
     "cell_type": "code",
     "collapsed": false,
     "input": [
      "for partido in ['votoFA','votoPN','votoPC','votoPI']:\n",
      "    print partido\n",
      "    cidif=ci_dif_between(votaciones_factum_2009[partido],votaciones_factum_2014[partido])\n"
     ],
     "language": "python",
     "metadata": {},
     "outputs": [
      {
       "output_type": "stream",
       "stream": "stdout",
       "text": [
        "votoFA\n",
        "0.46 0.42 Diferencia 0.04\n",
        "Intervalo: (-0.084, 0.004)\n",
        "La diferencia no es significativa\n",
        "votoPN\n",
        "0.34 0.32 Diferencia 0.02\n",
        "Intervalo: (-0.062, 0.022)\n",
        "La diferencia no es significativa\n",
        "votoPC\n",
        "0.1 0.15 Diferencia -0.05\n",
        "Intervalo: (0.021, 0.079)\n",
        "La diferencia es significativa\n",
        "votoPI\n",
        "0.02 0.03 Diferencia -0.01\n",
        "Intervalo: (-0.004, 0.024)\n",
        "La diferencia no es significativa\n"
       ]
      }
     ],
     "prompt_number": 9
    },
    {
     "cell_type": "markdown",
     "metadata": {},
     "source": [
      "Lo \u00fanico que podr\u00edamos afirmar con \"certeza estad\u00edstica\" es que el Partido Colorado est\u00e1 mejor que en las elecciones pasadas. Despu\u00e9s, todo m\u00e1s o menos igual"
     ]
    },
    {
     "cell_type": "markdown",
     "metadata": {},
     "source": [
      "En los diarios uruguayos se hacen afirmaciones sobre las encuestas que parecen omitir el margen de error. Si un partido baj\u00f3 un punto, \"su imagen se ha deteriorado\". Si sube dos, \"muestra un repunte\". La mayor\u00eda de esas afirmaciones son estad\u00edsticamente _muy_ arriesgadas. Veamos un ejemplo: "
     ]
    },
    {
     "cell_type": "markdown",
     "metadata": {},
     "source": [
      "_Blancos y Colorados sumados siguen aventajando al Frente Amplio_ El Pa\u00eds 8/9/2014. http://www.elpais.com.uy/informacion/encuesta-factum-intencion-voto-septiembre.html"
     ]
    },
    {
     "cell_type": "code",
     "collapsed": false,
     "input": [
      "cidif=ci_dif(votaciones_factum_2014['votoFA'],votaciones_factum_2014['votoPN']+votaciones_factum_2014['votoPC'])"
     ],
     "language": "python",
     "metadata": {},
     "outputs": [
      {
       "output_type": "stream",
       "stream": "stdout",
       "text": [
        "0.42 0.47 Diferencia: -0.05\n",
        "Intervalo: (-0.109, 0.009)\n",
        "La diferencia no es significativa\n"
       ]
      }
     ],
     "prompt_number": 10
    },
    {
     "cell_type": "markdown",
     "metadata": {},
     "source": [
      "Como dijimos antes, los n\u00fameros son demasiado parecidos como para afirmar que este valor no es casualidad. En la misma nota: _\"el Frente Amplio detuvo la ca\u00edda\"_"
     ]
    },
    {
     "cell_type": "code",
     "collapsed": false,
     "input": [
      "cidif=ci_dif_between(votaciones_factum_julio_2014['votoFA'],votaciones_factum_2014['votoFA'])"
     ],
     "language": "python",
     "metadata": {},
     "outputs": [
      {
       "output_type": "stream",
       "stream": "stdout",
       "text": [
        "0.42 0.42 Diferencia 0.0\n",
        "Intervalo: (-0.044, 0.044)\n",
        "La diferencia no es significativa\n"
       ]
      }
     ],
     "prompt_number": 11
    },
    {
     "cell_type": "markdown",
     "metadata": {},
     "source": [
      "No sabemos. De hecho no sabemos si efectivamente ven\u00eda cayendo, porque la diferencia entre los n\u00fameros es siempre muy peque\u00f1a. En la misma nota: _\"El partido Nacional sigue creciendo\"_"
     ]
    },
    {
     "cell_type": "code",
     "collapsed": false,
     "input": [
      "cidif=ci_dif_between(votaciones_factum_julio_2014['votoPN'],votaciones_factum_2014['votoPN'])"
     ],
     "language": "python",
     "metadata": {},
     "outputs": [
      {
       "output_type": "stream",
       "stream": "stdout",
       "text": [
        "0.3 0.32 Diferencia -0.02\n",
        "Intervalo: (-0.021, 0.061)\n",
        "La diferencia no es significativa\n"
       ]
      }
     ],
     "prompt_number": 12
    },
    {
     "cell_type": "markdown",
     "metadata": {},
     "source": [
      "Tampoco.\n",
      "\n",
      "Estimado lector: la pr\u00f3xima vez que veas afirmaciones (especialmente sobre diferencias), desconf\u00eda. Lo m\u00e1s probable es que, salvo que la diferencia sea muy grande, el margen de error producido por encuestar a 900 personas sea tan grande que haga que las afirmaciones no sean estad\u00edsticamente adecuadas. Muchas veces, terminan explicando el ruido estad\u00edstico. Y eso es malo, porque disfraza de ciencia lo que son especulaciones (es v\u00e1lido especular; lo que no es valido es disfrazarlo de ciencia). \n",
      "\n"
     ]
    },
    {
     "cell_type": "markdown",
     "metadata": {},
     "source": [
      "_El c\u00f3digo presentado en este notebook es tomado del art\u00edculo mencionado, si detectan alg\u00fan error por favor me avisan a @gmonce en Twitter._"
     ]
    },
    {
     "cell_type": "markdown",
     "metadata": {},
     "source": [
      "(*) Esto no es un juicio de valor, solamente un juego de palabras. http://en.wikipedia.org/wiki/Lies,_damned_lies,_and_statistics"
     ]
    }
   ],
   "metadata": {}
  }
 ]
}